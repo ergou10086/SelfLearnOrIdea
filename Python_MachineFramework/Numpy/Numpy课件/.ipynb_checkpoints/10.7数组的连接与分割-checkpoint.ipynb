{
 "cells": [
  {
   "cell_type": "markdown",
   "metadata": {
    "slideshow": {
     "slide_type": "slide"
    }
   },
   "source": [
    "##  数组堆叠与分割"
   ]
  },
  {
   "cell_type": "markdown",
   "metadata": {
    "slideshow": {
     "slide_type": "slide"
    }
   },
   "source": [
    "#### 数组的堆叠\n",
    "`concatenate`是最常用的堆叠方法："
   ]
  },
  {
   "cell_type": "code",
   "execution_count": null,
   "metadata": {
    "slideshow": {
     "slide_type": "slide"
    }
   },
   "outputs": [],
   "source": [
    "import numpy as np\n",
    "a = np.arange(6).reshape(2, 3)\n",
    "b = np.arange(6, 12).reshape(2, 3)\n",
    "print(a)\n",
    "print(b)\n",
    "np.concatenate((a, b), 0)"
   ]
  },
  {
   "cell_type": "code",
   "execution_count": null,
   "metadata": {
    "scrolled": false,
    "slideshow": {
     "slide_type": "slide"
    }
   },
   "outputs": [],
   "source": [
    "np.concatenate((a, b), 1)"
   ]
  },
  {
   "cell_type": "markdown",
   "metadata": {
    "slideshow": {
     "slide_type": "slide"
    }
   },
   "source": [
    "**hstack** 为水平堆叠："
   ]
  },
  {
   "cell_type": "code",
   "execution_count": null,
   "metadata": {
    "scrolled": true,
    "slideshow": {
     "slide_type": "slide"
    }
   },
   "outputs": [],
   "source": [
    "np.hstack((a, b))"
   ]
  },
  {
   "cell_type": "markdown",
   "metadata": {
    "slideshow": {
     "slide_type": "slide"
    }
   },
   "source": [
    "**vstack** 为垂直堆叠："
   ]
  },
  {
   "cell_type": "code",
   "execution_count": null,
   "metadata": {
    "slideshow": {
     "slide_type": "slide"
    }
   },
   "outputs": [],
   "source": [
    "np.vstack((a, b))"
   ]
  },
  {
   "cell_type": "markdown",
   "metadata": {
    "slideshow": {
     "slide_type": "slide"
    }
   },
   "source": [
    "`concatenate `、`hstack`和`vstack`都不增加新的维度，<br>维度保持不变，但改变了轴长度。"
   ]
  },
  {
   "cell_type": "markdown",
   "metadata": {
    "slideshow": {
     "slide_type": "slide"
    }
   },
   "source": [
    "下面来看看这个："
   ]
  },
  {
   "cell_type": "code",
   "execution_count": null,
   "metadata": {
    "scrolled": true,
    "slideshow": {
     "slide_type": "slide"
    }
   },
   "outputs": [],
   "source": [
    "c = np.r_[a, b]\n",
    "c"
   ]
  },
  {
   "cell_type": "code",
   "execution_count": null,
   "metadata": {
    "scrolled": true,
    "slideshow": {
     "slide_type": "slide"
    }
   },
   "outputs": [],
   "source": [
    "c = np.c_[a, b]\n",
    "c"
   ]
  },
  {
   "cell_type": "markdown",
   "metadata": {
    "slideshow": {
     "slide_type": "slide"
    }
   },
   "source": [
    "------------------\n",
    "#### 数组分割\n",
    "分割一维数组："
   ]
  },
  {
   "cell_type": "code",
   "execution_count": null,
   "metadata": {
    "slideshow": {
     "slide_type": "slide"
    }
   },
   "outputs": [],
   "source": [
    "import numpy as np\n",
    "a = np.arange(9)\n",
    "print(a)\n",
    "print('将数组分为三个大小相等的子数组：')\n",
    "# b = np.split(a, 3)\n",
    "# print(b)\n",
    "print('将数组在一维数组中表明的位置分割：')\n",
    "b = np.split(a, [4, 7])\n",
    "print(b)\n"
   ]
  },
  {
   "cell_type": "markdown",
   "metadata": {
    "slideshow": {
     "slide_type": "slide"
    }
   },
   "source": [
    "水平分割与竖直分割："
   ]
  },
  {
   "cell_type": "code",
   "execution_count": null,
   "metadata": {
    "scrolled": true,
    "slideshow": {
     "slide_type": "slide"
    }
   },
   "outputs": [],
   "source": [
    "a = np.arange(16).reshape(4,4)\n",
    "print(a)\n",
    "print('水平分割：')\n",
    "b = np.hsplit(a, 2)\n",
    "print(b)"
   ]
  },
  {
   "cell_type": "code",
   "execution_count": null,
   "metadata": {
    "scrolled": true,
    "slideshow": {
     "slide_type": "slide"
    }
   },
   "outputs": [],
   "source": [
    "a = np.arange(16).reshape(4,4)\n",
    "print(a)\n",
    "print('竖直分割：')\n",
    "b = np.vsplit(a, 2)\n",
    "print(b)"
   ]
  },
  {
   "cell_type": "markdown",
   "metadata": {
    "slideshow": {
     "slide_type": "slide"
    }
   },
   "source": [
    "#### 总结：\n",
    "数组堆叠：\n",
    "1. `concatenate` 沿着现存的轴连接数据序列\n",
    "3. `hstack` 水平堆叠序列中的数组(列方向)\n",
    "4. `vstack` 竖直堆叠序列中的数组(行方向)\n",
    "4. `np.r_[a, b]`和`np.r_[a, b]`堆叠方法\n",
    "-----------------------\n",
    "数组分割：\n",
    "1. `split` 将一个数组分割为多个子数组\n",
    "2. `hsplit` 将一个数组水平分割为多个子数组(按列)\n",
    "3. `vsplit` 将一个数组竖直分割为多个子数组(按行)"
   ]
  },
  {
   "cell_type": "markdown",
   "metadata": {
    "slideshow": {
     "slide_type": "slide"
    }
   },
   "source": [
    "#### 思考1：\n",
    "```Python \n",
    "假设有三个图像数组分别代表红、绿、蓝通道的像素值\n",
    "red_channel = np.array([[255, 0, 0], [255, 0, 0]])\n",
    "green_channel = np.array([[0, 255, 0], [0, 255, 0]])\n",
    "blue_channel = np.array([[0, 0, 255], [0, 0, 255]])\n",
    "请使用np.vstack将红、绿、蓝通道的图像数组堆叠起来，\n",
    "生成一个形状为(6, 3)的数组数据。\n",
    "```"
   ]
  },
  {
   "cell_type": "markdown",
   "metadata": {
    "slideshow": {
     "slide_type": "slide"
    }
   },
   "source": [
    "#### 思考2：\n",
    "假设我们有一个包含100个样本的数据集，<br>为方便逐块处理或训练模型，<br>可以将其分割成多个大小为10的子数据集。\n",
    "\n",
    "尝试将由100个随机数构成的数据集实现（形状为(100, 1)），<br>并由其分割出10个子数据集。"
   ]
  }
 ],
 "metadata": {
  "celltoolbar": "幻灯片",
  "kernelspec": {
   "display_name": "torch",
   "language": "python",
   "name": "torch"
  },
  "language_info": {
   "codemirror_mode": {
    "name": "ipython",
    "version": 3
   },
   "file_extension": ".py",
   "mimetype": "text/x-python",
   "name": "python",
   "nbconvert_exporter": "python",
   "pygments_lexer": "ipython3",
   "version": "3.11.5"
  }
 },
 "nbformat": 4,
 "nbformat_minor": 2
}
